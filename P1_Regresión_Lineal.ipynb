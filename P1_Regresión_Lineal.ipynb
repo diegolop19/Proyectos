{
 "cells": [
  {
   "cell_type": "markdown",
   "metadata": {},
   "source": [
    "# Proyecto 1: Regresión Lineal"
   ]
  },
  {
   "cell_type": "markdown",
   "metadata": {},
   "source": [
    "Es este primer proyecto realizaremos una regresión lineal simple y lo graficaremos para tener unos apuntes guía para futuras investigaciones."
   ]
  },
  {
   "cell_type": "code",
   "execution_count": 1,
   "metadata": {},
   "outputs": [],
   "source": [
    "import pandas as pd \n",
    "import seaborn as sbn\n",
    "import numpy as np"
   ]
  },
  {
   "cell_type": "markdown",
   "metadata": {},
   "source": [
    "## Datos"
   ]
  },
  {
   "cell_type": "markdown",
   "metadata": {},
   "source": [
    "Ingresamos los datos que vamos a usar y los juntamos en un solo DF"
   ]
  },
  {
   "cell_type": "code",
   "execution_count": 2,
   "metadata": {},
   "outputs": [
    {
     "data": {
      "text/html": [
       "<div>\n",
       "<style scoped>\n",
       "    .dataframe tbody tr th:only-of-type {\n",
       "        vertical-align: middle;\n",
       "    }\n",
       "\n",
       "    .dataframe tbody tr th {\n",
       "        vertical-align: top;\n",
       "    }\n",
       "\n",
       "    .dataframe thead th {\n",
       "        text-align: right;\n",
       "    }\n",
       "</style>\n",
       "<table border=\"1\" class=\"dataframe\">\n",
       "  <thead>\n",
       "    <tr style=\"text-align: right;\">\n",
       "      <th></th>\n",
       "      <th>PBI</th>\n",
       "      <th>INGRESO</th>\n",
       "      <th>GASTO</th>\n",
       "    </tr>\n",
       "  </thead>\n",
       "  <tbody>\n",
       "    <tr>\n",
       "      <th>T100</th>\n",
       "      <td>6.756250</td>\n",
       "      <td>n.d.</td>\n",
       "      <td>n.d.</td>\n",
       "    </tr>\n",
       "    <tr>\n",
       "      <th>T200</th>\n",
       "      <td>4.931338</td>\n",
       "      <td>n.d.</td>\n",
       "      <td>n.d.</td>\n",
       "    </tr>\n",
       "    <tr>\n",
       "      <th>T300</th>\n",
       "      <td>2.680012</td>\n",
       "      <td>n.d.</td>\n",
       "      <td>n.d.</td>\n",
       "    </tr>\n",
       "    <tr>\n",
       "      <th>T400</th>\n",
       "      <td>-3.177518</td>\n",
       "      <td>n.d.</td>\n",
       "      <td>n.d.</td>\n",
       "    </tr>\n",
       "    <tr>\n",
       "      <th>T101</th>\n",
       "      <td>-5.330526</td>\n",
       "      <td>n.d.</td>\n",
       "      <td>n.d.</td>\n",
       "    </tr>\n",
       "    <tr>\n",
       "      <th>T201</th>\n",
       "      <td>0.301282</td>\n",
       "      <td>n.d.</td>\n",
       "      <td>n.d.</td>\n",
       "    </tr>\n",
       "    <tr>\n",
       "      <th>T301</th>\n",
       "      <td>2.742307</td>\n",
       "      <td>n.d.</td>\n",
       "      <td>n.d.</td>\n",
       "    </tr>\n",
       "    <tr>\n",
       "      <th>T401</th>\n",
       "      <td>4.782608</td>\n",
       "      <td>n.d.</td>\n",
       "      <td>n.d.</td>\n",
       "    </tr>\n",
       "    <tr>\n",
       "      <th>T102</th>\n",
       "      <td>6.525020</td>\n",
       "      <td>n.d.</td>\n",
       "      <td>n.d.</td>\n",
       "    </tr>\n",
       "    <tr>\n",
       "      <th>T202</th>\n",
       "      <td>6.633736</td>\n",
       "      <td>n.d.</td>\n",
       "      <td>n.d.</td>\n",
       "    </tr>\n",
       "    <tr>\n",
       "      <th>T302</th>\n",
       "      <td>4.071136</td>\n",
       "      <td>n.d.</td>\n",
       "      <td>n.d.</td>\n",
       "    </tr>\n",
       "    <tr>\n",
       "      <th>T402</th>\n",
       "      <td>4.636279</td>\n",
       "      <td>n.d.</td>\n",
       "      <td>n.d.</td>\n",
       "    </tr>\n",
       "    <tr>\n",
       "      <th>T103</th>\n",
       "      <td>5.643193</td>\n",
       "      <td>4.20419455484973</td>\n",
       "      <td>n.d.</td>\n",
       "    </tr>\n",
       "    <tr>\n",
       "      <th>T203</th>\n",
       "      <td>4.646750</td>\n",
       "      <td>3.251117623741</td>\n",
       "      <td>n.d.</td>\n",
       "    </tr>\n",
       "    <tr>\n",
       "      <th>T303</th>\n",
       "      <td>3.676659</td>\n",
       "      <td>4.24639550761173</td>\n",
       "      <td>n.d.</td>\n",
       "    </tr>\n",
       "    <tr>\n",
       "      <th>T403</th>\n",
       "      <td>2.779450</td>\n",
       "      <td>3.74897111260982</td>\n",
       "      <td>n.d.</td>\n",
       "    </tr>\n",
       "    <tr>\n",
       "      <th>T104</th>\n",
       "      <td>4.574384</td>\n",
       "      <td>3.71703245222835</td>\n",
       "      <td>n.d.</td>\n",
       "    </tr>\n",
       "    <tr>\n",
       "      <th>T204</th>\n",
       "      <td>3.737932</td>\n",
       "      <td>3.08821566411762</td>\n",
       "      <td>n.d.</td>\n",
       "    </tr>\n",
       "    <tr>\n",
       "      <th>T304</th>\n",
       "      <td>4.284058</td>\n",
       "      <td>3.95670921760424</td>\n",
       "      <td>n.d.</td>\n",
       "    </tr>\n",
       "    <tr>\n",
       "      <th>T404</th>\n",
       "      <td>7.276170</td>\n",
       "      <td>3.61568498520996</td>\n",
       "      <td>n.d.</td>\n",
       "    </tr>\n",
       "    <tr>\n",
       "      <th>T105</th>\n",
       "      <td>5.626103</td>\n",
       "      <td>3.78831120235431</td>\n",
       "      <td>n.d.</td>\n",
       "    </tr>\n",
       "    <tr>\n",
       "      <th>T205</th>\n",
       "      <td>5.426775</td>\n",
       "      <td>3.61568683173482</td>\n",
       "      <td>n.d.</td>\n",
       "    </tr>\n",
       "    <tr>\n",
       "      <th>T305</th>\n",
       "      <td>6.467693</td>\n",
       "      <td>4.43952335582436</td>\n",
       "      <td>n.d.</td>\n",
       "    </tr>\n",
       "    <tr>\n",
       "      <th>T405</th>\n",
       "      <td>7.597287</td>\n",
       "      <td>3.87997265494583</td>\n",
       "      <td>n.d.</td>\n",
       "    </tr>\n",
       "    <tr>\n",
       "      <th>T106</th>\n",
       "      <td>8.283806</td>\n",
       "      <td>4.58397587860248</td>\n",
       "      <td>13.2244941786155</td>\n",
       "    </tr>\n",
       "  </tbody>\n",
       "</table>\n",
       "</div>"
      ],
      "text/plain": [
       "           PBI           INGRESO             GASTO\n",
       "T100  6.756250              n.d.              n.d.\n",
       "T200  4.931338              n.d.              n.d.\n",
       "T300  2.680012              n.d.              n.d.\n",
       "T400 -3.177518              n.d.              n.d.\n",
       "T101 -5.330526              n.d.              n.d.\n",
       "T201  0.301282              n.d.              n.d.\n",
       "T301  2.742307              n.d.              n.d.\n",
       "T401  4.782608              n.d.              n.d.\n",
       "T102  6.525020              n.d.              n.d.\n",
       "T202  6.633736              n.d.              n.d.\n",
       "T302  4.071136              n.d.              n.d.\n",
       "T402  4.636279              n.d.              n.d.\n",
       "T103  5.643193  4.20419455484973              n.d.\n",
       "T203  4.646750    3.251117623741              n.d.\n",
       "T303  3.676659  4.24639550761173              n.d.\n",
       "T403  2.779450  3.74897111260982              n.d.\n",
       "T104  4.574384  3.71703245222835              n.d.\n",
       "T204  3.737932  3.08821566411762              n.d.\n",
       "T304  4.284058  3.95670921760424              n.d.\n",
       "T404  7.276170  3.61568498520996              n.d.\n",
       "T105  5.626103  3.78831120235431              n.d.\n",
       "T205  5.426775  3.61568683173482              n.d.\n",
       "T305  6.467693  4.43952335582436              n.d.\n",
       "T405  7.597287  3.87997265494583              n.d.\n",
       "T106  8.283806  4.58397587860248  13.2244941786155"
      ]
     },
     "execution_count": 2,
     "metadata": {},
     "output_type": "execute_result"
    }
   ],
   "source": [
    "PBI=pd.read_csv(r\"D:\\Data\\BCRP\\Trimestrales-20200824-134253.csv\",header=1,index_col=0)\n",
    "INGRESO=pd.read_csv(r\"D:\\Data\\BCRP\\Trimestrales-20200824-134910.csv\",header=1,index_col=0)\n",
    "GASTO=pd.read_csv(r\"D:\\Data\\BCRP\\Trimestrales-20200824-134824.csv\",header=1,index_col=0)\n",
    "PBI[\"INGRESO\"]=INGRESO[\"Ingresos corrientes del gobierno general (porcentaje del PBI) - Ingresos Corrientes del GG - Ingresos no Tributarios (% PBI)\"]\n",
    "PBI[\"GASTO\"]=GASTO['Gastos no financieros del gobierno general (porcentaje del PBI) - Gastos Corrientes']\n",
    "PBI.rename(columns = {\"Producto bruto interno (variaciones porcentuales) - PBI Global\":\"PBI\"},inplace=True)\n",
    "PBI.head(25)"
   ]
  },
  {
   "cell_type": "markdown",
   "metadata": {},
   "source": [
    "### Eliminamos n.d."
   ]
  },
  {
   "cell_type": "code",
   "execution_count": 3,
   "metadata": {},
   "outputs": [
    {
     "data": {
      "text/html": [
       "<div>\n",
       "<style scoped>\n",
       "    .dataframe tbody tr th:only-of-type {\n",
       "        vertical-align: middle;\n",
       "    }\n",
       "\n",
       "    .dataframe tbody tr th {\n",
       "        vertical-align: top;\n",
       "    }\n",
       "\n",
       "    .dataframe thead th {\n",
       "        text-align: right;\n",
       "    }\n",
       "</style>\n",
       "<table border=\"1\" class=\"dataframe\">\n",
       "  <thead>\n",
       "    <tr style=\"text-align: right;\">\n",
       "      <th></th>\n",
       "      <th>PBI</th>\n",
       "      <th>INGRESO</th>\n",
       "      <th>GASTO</th>\n",
       "    </tr>\n",
       "  </thead>\n",
       "  <tbody>\n",
       "    <tr>\n",
       "      <th>T106</th>\n",
       "      <td>8.283806</td>\n",
       "      <td>4.58397587860248</td>\n",
       "      <td>13.2244941786155</td>\n",
       "    </tr>\n",
       "    <tr>\n",
       "      <th>T206</th>\n",
       "      <td>6.329469</td>\n",
       "      <td>3.6041727711478</td>\n",
       "      <td>12.3230419111471</td>\n",
       "    </tr>\n",
       "    <tr>\n",
       "      <th>T306</th>\n",
       "      <td>8.294597</td>\n",
       "      <td>4.3802625228719</td>\n",
       "      <td>13.7514597880226</td>\n",
       "    </tr>\n",
       "    <tr>\n",
       "      <th>T406</th>\n",
       "      <td>7.324218</td>\n",
       "      <td>3.881703181782</td>\n",
       "      <td>15.9024871032248</td>\n",
       "    </tr>\n",
       "    <tr>\n",
       "      <th>T107</th>\n",
       "      <td>5.286376</td>\n",
       "      <td>4.33300571589526</td>\n",
       "      <td>12.3063672304653</td>\n",
       "    </tr>\n",
       "  </tbody>\n",
       "</table>\n",
       "</div>"
      ],
      "text/plain": [
       "           PBI           INGRESO             GASTO\n",
       "T106  8.283806  4.58397587860248  13.2244941786155\n",
       "T206  6.329469   3.6041727711478  12.3230419111471\n",
       "T306  8.294597   4.3802625228719  13.7514597880226\n",
       "T406  7.324218    3.881703181782  15.9024871032248\n",
       "T107  5.286376  4.33300571589526  12.3063672304653"
      ]
     },
     "execution_count": 3,
     "metadata": {},
     "output_type": "execute_result"
    }
   ],
   "source": [
    "indexNames = PBI[PBI['GASTO'] == \"n.d.\"].index\n",
    "PBI.drop(indexNames , inplace=True)\n",
    "PBI.head()"
   ]
  },
  {
   "cell_type": "markdown",
   "metadata": {},
   "source": [
    "## Cambiando el formato\n",
    "Como la data vino con n.d. se le tiene que cabiar a formato \"float\", volver todo trimestral (period_range) pero como cuenta de tiempo (timestamp) para que todos los graficos lo pueda identificar"
   ]
  },
  {
   "cell_type": "code",
   "execution_count": 4,
   "metadata": {},
   "outputs": [
    {
     "data": {
      "text/html": [
       "<div>\n",
       "<style scoped>\n",
       "    .dataframe tbody tr th:only-of-type {\n",
       "        vertical-align: middle;\n",
       "    }\n",
       "\n",
       "    .dataframe tbody tr th {\n",
       "        vertical-align: top;\n",
       "    }\n",
       "\n",
       "    .dataframe thead th {\n",
       "        text-align: right;\n",
       "    }\n",
       "</style>\n",
       "<table border=\"1\" class=\"dataframe\">\n",
       "  <thead>\n",
       "    <tr style=\"text-align: right;\">\n",
       "      <th></th>\n",
       "      <th>PBI</th>\n",
       "      <th>INGRESO</th>\n",
       "      <th>GASTO</th>\n",
       "    </tr>\n",
       "  </thead>\n",
       "  <tbody>\n",
       "    <tr>\n",
       "      <th>2006-01-01</th>\n",
       "      <td>8.283806</td>\n",
       "      <td>4.583976</td>\n",
       "      <td>13.224494</td>\n",
       "    </tr>\n",
       "    <tr>\n",
       "      <th>2006-04-01</th>\n",
       "      <td>6.329469</td>\n",
       "      <td>3.604173</td>\n",
       "      <td>12.323042</td>\n",
       "    </tr>\n",
       "    <tr>\n",
       "      <th>2006-07-01</th>\n",
       "      <td>8.294597</td>\n",
       "      <td>4.380263</td>\n",
       "      <td>13.751460</td>\n",
       "    </tr>\n",
       "    <tr>\n",
       "      <th>2006-10-01</th>\n",
       "      <td>7.324218</td>\n",
       "      <td>3.881703</td>\n",
       "      <td>15.902487</td>\n",
       "    </tr>\n",
       "    <tr>\n",
       "      <th>2007-01-01</th>\n",
       "      <td>5.286376</td>\n",
       "      <td>4.333006</td>\n",
       "      <td>12.306367</td>\n",
       "    </tr>\n",
       "    <tr>\n",
       "      <th>2007-04-01</th>\n",
       "      <td>6.332691</td>\n",
       "      <td>3.668830</td>\n",
       "      <td>12.447460</td>\n",
       "    </tr>\n",
       "    <tr>\n",
       "      <th>2007-07-01</th>\n",
       "      <td>10.827106</td>\n",
       "      <td>4.235312</td>\n",
       "      <td>13.833354</td>\n",
       "    </tr>\n",
       "    <tr>\n",
       "      <th>2007-10-01</th>\n",
       "      <td>11.439006</td>\n",
       "      <td>4.167767</td>\n",
       "      <td>15.849898</td>\n",
       "    </tr>\n",
       "    <tr>\n",
       "      <th>2008-01-01</th>\n",
       "      <td>10.168902</td>\n",
       "      <td>4.514550</td>\n",
       "      <td>13.357051</td>\n",
       "    </tr>\n",
       "    <tr>\n",
       "      <th>2008-04-01</th>\n",
       "      <td>10.568367</td>\n",
       "      <td>4.193985</td>\n",
       "      <td>13.110958</td>\n",
       "    </tr>\n",
       "    <tr>\n",
       "      <th>2008-07-01</th>\n",
       "      <td>9.605708</td>\n",
       "      <td>4.992922</td>\n",
       "      <td>14.407907</td>\n",
       "    </tr>\n",
       "    <tr>\n",
       "      <th>2008-10-01</th>\n",
       "      <td>6.467735</td>\n",
       "      <td>3.896815</td>\n",
       "      <td>13.931510</td>\n",
       "    </tr>\n",
       "    <tr>\n",
       "      <th>2009-01-01</th>\n",
       "      <td>2.576108</td>\n",
       "      <td>4.464569</td>\n",
       "      <td>12.762867</td>\n",
       "    </tr>\n",
       "    <tr>\n",
       "      <th>2009-04-01</th>\n",
       "      <td>-0.806834</td>\n",
       "      <td>4.528676</td>\n",
       "      <td>13.250142</td>\n",
       "    </tr>\n",
       "    <tr>\n",
       "      <th>2009-07-01</th>\n",
       "      <td>-0.177357</td>\n",
       "      <td>4.225478</td>\n",
       "      <td>14.848261</td>\n",
       "    </tr>\n",
       "    <tr>\n",
       "      <th>2009-10-01</th>\n",
       "      <td>2.712329</td>\n",
       "      <td>3.693898</td>\n",
       "      <td>15.874062</td>\n",
       "    </tr>\n",
       "    <tr>\n",
       "      <th>2010-01-01</th>\n",
       "      <td>5.456635</td>\n",
       "      <td>4.925301</td>\n",
       "      <td>14.083234</td>\n",
       "    </tr>\n",
       "    <tr>\n",
       "      <th>2010-04-01</th>\n",
       "      <td>9.567288</td>\n",
       "      <td>4.446705</td>\n",
       "      <td>12.573824</td>\n",
       "    </tr>\n",
       "    <tr>\n",
       "      <th>2010-07-01</th>\n",
       "      <td>9.781997</td>\n",
       "      <td>4.307978</td>\n",
       "      <td>13.488853</td>\n",
       "    </tr>\n",
       "    <tr>\n",
       "      <th>2010-10-01</th>\n",
       "      <td>8.794238</td>\n",
       "      <td>4.325445</td>\n",
       "      <td>14.501132</td>\n",
       "    </tr>\n",
       "    <tr>\n",
       "      <th>2011-01-01</th>\n",
       "      <td>8.668760</td>\n",
       "      <td>4.770346</td>\n",
       "      <td>12.733166</td>\n",
       "    </tr>\n",
       "    <tr>\n",
       "      <th>2011-04-01</th>\n",
       "      <td>5.458695</td>\n",
       "      <td>4.908732</td>\n",
       "      <td>12.460721</td>\n",
       "    </tr>\n",
       "    <tr>\n",
       "      <th>2011-07-01</th>\n",
       "      <td>5.867497</td>\n",
       "      <td>4.526986</td>\n",
       "      <td>13.329762</td>\n",
       "    </tr>\n",
       "    <tr>\n",
       "      <th>2011-10-01</th>\n",
       "      <td>6.048516</td>\n",
       "      <td>4.265715</td>\n",
       "      <td>15.027016</td>\n",
       "    </tr>\n",
       "    <tr>\n",
       "      <th>2012-01-01</th>\n",
       "      <td>5.971347</td>\n",
       "      <td>4.979978</td>\n",
       "      <td>11.899938</td>\n",
       "    </tr>\n",
       "  </tbody>\n",
       "</table>\n",
       "</div>"
      ],
      "text/plain": [
       "                  PBI   INGRESO      GASTO\n",
       "2006-01-01   8.283806  4.583976  13.224494\n",
       "2006-04-01   6.329469  3.604173  12.323042\n",
       "2006-07-01   8.294597  4.380263  13.751460\n",
       "2006-10-01   7.324218  3.881703  15.902487\n",
       "2007-01-01   5.286376  4.333006  12.306367\n",
       "2007-04-01   6.332691  3.668830  12.447460\n",
       "2007-07-01  10.827106  4.235312  13.833354\n",
       "2007-10-01  11.439006  4.167767  15.849898\n",
       "2008-01-01  10.168902  4.514550  13.357051\n",
       "2008-04-01  10.568367  4.193985  13.110958\n",
       "2008-07-01   9.605708  4.992922  14.407907\n",
       "2008-10-01   6.467735  3.896815  13.931510\n",
       "2009-01-01   2.576108  4.464569  12.762867\n",
       "2009-04-01  -0.806834  4.528676  13.250142\n",
       "2009-07-01  -0.177357  4.225478  14.848261\n",
       "2009-10-01   2.712329  3.693898  15.874062\n",
       "2010-01-01   5.456635  4.925301  14.083234\n",
       "2010-04-01   9.567288  4.446705  12.573824\n",
       "2010-07-01   9.781997  4.307978  13.488853\n",
       "2010-10-01   8.794238  4.325445  14.501132\n",
       "2011-01-01   8.668760  4.770346  12.733166\n",
       "2011-04-01   5.458695  4.908732  12.460721\n",
       "2011-07-01   5.867497  4.526986  13.329762\n",
       "2011-10-01   6.048516  4.265715  15.027016\n",
       "2012-01-01   5.971347  4.979978  11.899938"
      ]
     },
     "execution_count": 4,
     "metadata": {},
     "output_type": "execute_result"
    }
   ],
   "source": [
    "PBI[\"INGRESO\"]=PBI[\"INGRESO\"].astype(float)\n",
    "PBI[\"GASTO\"]=PBI[\"GASTO\"].astype(float)\n",
    "PBI.index =pd.period_range('2006Q1', '2020Q1', freq='Q').to_timestamp()\n",
    "PBI.head(25)"
   ]
  },
  {
   "cell_type": "markdown",
   "metadata": {},
   "source": [
    "### Guardar la data como Excel"
   ]
  },
  {
   "cell_type": "code",
   "execution_count": 5,
   "metadata": {},
   "outputs": [],
   "source": [
    "PBI.to_excel(r\"D:\\Data\\BCRP\\PBI.xlsx\")"
   ]
  },
  {
   "cell_type": "markdown",
   "metadata": {},
   "source": [
    "### Guardar la data como CSV"
   ]
  },
  {
   "cell_type": "code",
   "execution_count": 6,
   "metadata": {},
   "outputs": [],
   "source": [
    "PBI.to_csv(r\"D:\\Data\\BCRP\\PBI.csv\")"
   ]
  },
  {
   "cell_type": "markdown",
   "metadata": {},
   "source": [
    "## Regresión"
   ]
  },
  {
   "cell_type": "markdown",
   "metadata": {},
   "source": [
    "Ahora que tenemos los datos realizamos una regresión lineal"
   ]
  },
  {
   "cell_type": "code",
   "execution_count": 7,
   "metadata": {},
   "outputs": [],
   "source": [
    "import statsmodels.api as sm\n",
    "import numpy as np "
   ]
  },
  {
   "cell_type": "code",
   "execution_count": 8,
   "metadata": {
    "scrolled": true
   },
   "outputs": [
    {
     "data": {
      "text/html": [
       "<table class=\"simpletable\">\n",
       "<caption>OLS Regression Results</caption>\n",
       "<tr>\n",
       "  <th>Dep. Variable:</th>           <td>PBI</td>       <th>  R-squared:         </th> <td>   0.109</td>\n",
       "</tr>\n",
       "<tr>\n",
       "  <th>Model:</th>                   <td>OLS</td>       <th>  Adj. R-squared:    </th> <td>   0.076</td>\n",
       "</tr>\n",
       "<tr>\n",
       "  <th>Method:</th>             <td>Least Squares</td>  <th>  F-statistic:       </th> <td>   3.307</td>\n",
       "</tr>\n",
       "<tr>\n",
       "  <th>Date:</th>             <td>Mon, 24 Aug 2020</td> <th>  Prob (F-statistic):</th>  <td>0.0442</td> \n",
       "</tr>\n",
       "<tr>\n",
       "  <th>Time:</th>                 <td>19:09:05</td>     <th>  Log-Likelihood:    </th> <td> -141.70</td>\n",
       "</tr>\n",
       "<tr>\n",
       "  <th>No. Observations:</th>      <td>    57</td>      <th>  AIC:               </th> <td>   289.4</td>\n",
       "</tr>\n",
       "<tr>\n",
       "  <th>Df Residuals:</th>          <td>    54</td>      <th>  BIC:               </th> <td>   295.5</td>\n",
       "</tr>\n",
       "<tr>\n",
       "  <th>Df Model:</th>              <td>     2</td>      <th>                     </th>     <td> </td>   \n",
       "</tr>\n",
       "<tr>\n",
       "  <th>Covariance Type:</th>      <td>nonrobust</td>    <th>                     </th>     <td> </td>   \n",
       "</tr>\n",
       "</table>\n",
       "<table class=\"simpletable\">\n",
       "<tr>\n",
       "     <td></td>        <th>coef</th>     <th>std err</th>      <th>t</th>      <th>P>|t|</th>  <th>[0.025</th>    <th>0.975]</th>  \n",
       "</tr>\n",
       "<tr>\n",
       "  <th>const</th>   <td>   19.7439</td> <td>    7.281</td> <td>    2.712</td> <td> 0.009</td> <td>    5.146</td> <td>   34.342</td>\n",
       "</tr>\n",
       "<tr>\n",
       "  <th>INGRESO</th> <td>   -1.1409</td> <td>    1.040</td> <td>   -1.097</td> <td> 0.278</td> <td>   -3.227</td> <td>    0.945</td>\n",
       "</tr>\n",
       "<tr>\n",
       "  <th>GASTO</th>   <td>   -0.6762</td> <td>    0.264</td> <td>   -2.563</td> <td> 0.013</td> <td>   -1.205</td> <td>   -0.147</td>\n",
       "</tr>\n",
       "</table>\n",
       "<table class=\"simpletable\">\n",
       "<tr>\n",
       "  <th>Omnibus:</th>       <td> 0.548</td> <th>  Durbin-Watson:     </th> <td>   0.767</td>\n",
       "</tr>\n",
       "<tr>\n",
       "  <th>Prob(Omnibus):</th> <td> 0.760</td> <th>  Jarque-Bera (JB):  </th> <td>   0.128</td>\n",
       "</tr>\n",
       "<tr>\n",
       "  <th>Skew:</th>          <td> 0.071</td> <th>  Prob(JB):          </th> <td>   0.938</td>\n",
       "</tr>\n",
       "<tr>\n",
       "  <th>Kurtosis:</th>      <td> 3.183</td> <th>  Cond. No.          </th> <td>    283.</td>\n",
       "</tr>\n",
       "</table><br/><br/>Warnings:<br/>[1] Standard Errors assume that the covariance matrix of the errors is correctly specified."
      ],
      "text/plain": [
       "<class 'statsmodels.iolib.summary.Summary'>\n",
       "\"\"\"\n",
       "                            OLS Regression Results                            \n",
       "==============================================================================\n",
       "Dep. Variable:                    PBI   R-squared:                       0.109\n",
       "Model:                            OLS   Adj. R-squared:                  0.076\n",
       "Method:                 Least Squares   F-statistic:                     3.307\n",
       "Date:                Mon, 24 Aug 2020   Prob (F-statistic):             0.0442\n",
       "Time:                        19:09:05   Log-Likelihood:                -141.70\n",
       "No. Observations:                  57   AIC:                             289.4\n",
       "Df Residuals:                      54   BIC:                             295.5\n",
       "Df Model:                           2                                         \n",
       "Covariance Type:            nonrobust                                         \n",
       "==============================================================================\n",
       "                 coef    std err          t      P>|t|      [0.025      0.975]\n",
       "------------------------------------------------------------------------------\n",
       "const         19.7439      7.281      2.712      0.009       5.146      34.342\n",
       "INGRESO       -1.1409      1.040     -1.097      0.278      -3.227       0.945\n",
       "GASTO         -0.6762      0.264     -2.563      0.013      -1.205      -0.147\n",
       "==============================================================================\n",
       "Omnibus:                        0.548   Durbin-Watson:                   0.767\n",
       "Prob(Omnibus):                  0.760   Jarque-Bera (JB):                0.128\n",
       "Skew:                           0.071   Prob(JB):                        0.938\n",
       "Kurtosis:                       3.183   Cond. No.                         283.\n",
       "==============================================================================\n",
       "\n",
       "Warnings:\n",
       "[1] Standard Errors assume that the covariance matrix of the errors is correctly specified.\n",
       "\"\"\""
      ]
     },
     "execution_count": 8,
     "metadata": {},
     "output_type": "execute_result"
    }
   ],
   "source": [
    "y= PBI[\"PBI\"]\n",
    "x= PBI[[\"INGRESO\",\"GASTO\"]]\n",
    "x = sm.add_constant(x)\n",
    "\n",
    "modelo = sm.OLS(y, x)\n",
    "\n",
    "residuo = modelo.fit()\n",
    "\n",
    "residuo.summary()"
   ]
  },
  {
   "cell_type": "code",
   "execution_count": 9,
   "metadata": {},
   "outputs": [],
   "source": [
    "y_hat= residuo.predict(x)\n",
    "PBI[\"PREDICCIÓN\"]=y_hat"
   ]
  },
  {
   "cell_type": "code",
   "execution_count": 10,
   "metadata": {},
   "outputs": [
    {
     "data": {
      "text/html": [
       "<div>\n",
       "<style scoped>\n",
       "    .dataframe tbody tr th:only-of-type {\n",
       "        vertical-align: middle;\n",
       "    }\n",
       "\n",
       "    .dataframe tbody tr th {\n",
       "        vertical-align: top;\n",
       "    }\n",
       "\n",
       "    .dataframe thead th {\n",
       "        text-align: right;\n",
       "    }\n",
       "</style>\n",
       "<table border=\"1\" class=\"dataframe\">\n",
       "  <thead>\n",
       "    <tr style=\"text-align: right;\">\n",
       "      <th></th>\n",
       "      <th>PBI</th>\n",
       "      <th>INGRESO</th>\n",
       "      <th>GASTO</th>\n",
       "      <th>PREDICCIÓN</th>\n",
       "    </tr>\n",
       "  </thead>\n",
       "  <tbody>\n",
       "    <tr>\n",
       "      <th>2006-01-01</th>\n",
       "      <td>8.283806</td>\n",
       "      <td>4.583976</td>\n",
       "      <td>13.224494</td>\n",
       "      <td>5.571196</td>\n",
       "    </tr>\n",
       "    <tr>\n",
       "      <th>2006-04-01</th>\n",
       "      <td>6.329469</td>\n",
       "      <td>3.604173</td>\n",
       "      <td>12.323042</td>\n",
       "      <td>7.298665</td>\n",
       "    </tr>\n",
       "    <tr>\n",
       "      <th>2006-07-01</th>\n",
       "      <td>8.294597</td>\n",
       "      <td>4.380263</td>\n",
       "      <td>13.751460</td>\n",
       "      <td>5.447271</td>\n",
       "    </tr>\n",
       "    <tr>\n",
       "      <th>2006-10-01</th>\n",
       "      <td>7.324218</td>\n",
       "      <td>3.881703</td>\n",
       "      <td>15.902487</td>\n",
       "      <td>4.561513</td>\n",
       "    </tr>\n",
       "    <tr>\n",
       "      <th>2007-01-01</th>\n",
       "      <td>5.286376</td>\n",
       "      <td>4.333006</td>\n",
       "      <td>12.306367</td>\n",
       "      <td>6.478395</td>\n",
       "    </tr>\n",
       "  </tbody>\n",
       "</table>\n",
       "</div>"
      ],
      "text/plain": [
       "                 PBI   INGRESO      GASTO  PREDICCIÓN\n",
       "2006-01-01  8.283806  4.583976  13.224494    5.571196\n",
       "2006-04-01  6.329469  3.604173  12.323042    7.298665\n",
       "2006-07-01  8.294597  4.380263  13.751460    5.447271\n",
       "2006-10-01  7.324218  3.881703  15.902487    4.561513\n",
       "2007-01-01  5.286376  4.333006  12.306367    6.478395"
      ]
     },
     "execution_count": 10,
     "metadata": {},
     "output_type": "execute_result"
    }
   ],
   "source": [
    "PBI.head()"
   ]
  },
  {
   "cell_type": "markdown",
   "metadata": {},
   "source": [
    "## Graficos"
   ]
  },
  {
   "cell_type": "markdown",
   "metadata": {},
   "source": [
    "Ahora que ya tenemos todo, veremos la graficación de la información"
   ]
  },
  {
   "cell_type": "code",
   "execution_count": 11,
   "metadata": {},
   "outputs": [],
   "source": [
    "import matplotlib.pyplot as plt"
   ]
  },
  {
   "cell_type": "markdown",
   "metadata": {},
   "source": [
    "### Grafico de Var% PBI"
   ]
  },
  {
   "cell_type": "code",
   "execution_count": 12,
   "metadata": {},
   "outputs": [
    {
     "data": {
      "text/plain": [
       "<matplotlib.legend.Legend at 0x1b5efb74ee0>"
      ]
     },
     "execution_count": 12,
     "metadata": {},
     "output_type": "execute_result"
    },
    {
     "data": {
      "image/png": "[encoded data removed]",
      "text/plain": [
       "<Figure size 720x504 with 1 Axes>"
      ]
     },
     "metadata": {
      "needs_background": "light"
     },
     "output_type": "display_data"
    }
   ],
   "source": [
    "PBI[\"PBI\"].plot(figsize=(10, 7),label=\"PBI VAR%\")\n",
    "plt.title(\"PBI var%\")\n",
    "plt.legend(loc=\"best\")"
   ]
  },
  {
   "cell_type": "markdown",
   "metadata": {},
   "source": [
    "## Grafico de la regresión"
   ]
  },
  {
   "cell_type": "code",
   "execution_count": 13,
   "metadata": {},
   "outputs": [
    {
     "data": {
      "image/png": "[encoded data removed]",
      "text/plain": [
       "<Figure size 720x504 with 1 Axes>"
      ]
     },
     "metadata": {
      "needs_background": "light"
     },
     "output_type": "display_data"
    }
   ],
   "source": [
    "from pandas.plotting import lag_plot\n",
    "fig, ax = plt.subplots(figsize=(10,7))\n",
    "ax.plot(PBI.index,PBI[\"PBI\"], 'o-', label=\"PBI VAR%\")\n",
    "ax.plot(PBI.index,PBI[\"PREDICCIÓN\"], 'r--', label=\"PREDICCIÓN\")\n",
    "plt.title(\"PBI VAR%\")\n",
    "plt.figtext(0.12,-.01,\"Por Diego López\")\n",
    "ax.legend(loc=1);"
   ]
  }
 ],
 "metadata": {
  "kernelspec": {
   "display_name": "Python 3",
   "language": "python",
   "name": "python3"
  },
  "language_info": {
   "codemirror_mode": {
    "name": "ipython",
    "version": 3
   },
   "file_extension": ".py",
   "mimetype": "text/x-python",
   "name": "python",
   "nbconvert_exporter": "python",
   "pygments_lexer": "ipython3",
   "version": "3.8.5"
  }
 },
 "nbformat": 4,
 "nbformat_minor": 4
}
